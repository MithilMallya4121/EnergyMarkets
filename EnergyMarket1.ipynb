{
  "nbformat": 4,
  "nbformat_minor": 0,
  "metadata": {
    "colab": {
      "provenance": [],
      "authorship_tag": "ABX9TyOXGixigRTgHt3FfmPqh7SV",
      "include_colab_link": true
    },
    "kernelspec": {
      "name": "python3",
      "display_name": "Python 3"
    },
    "language_info": {
      "name": "python"
    }
  },
  "cells": [
    {
      "cell_type": "markdown",
      "metadata": {
        "id": "view-in-github",
        "colab_type": "text"
      },
      "source": [
        "<a href=\"https://colab.research.google.com/github/MithilMallya4121/EnergyMarkets/blob/main/EnergyMarket1.ipynb\" target=\"_parent\"><img src=\"https://colab.research.google.com/assets/colab-badge.svg\" alt=\"Open In Colab\"/></a>"
      ]
    },
    {
      "cell_type": "code",
      "execution_count": null,
      "metadata": {
        "colab": {
          "base_uri": "https://localhost:8080/"
        },
        "id": "QxaLBE8FodKB",
        "outputId": "2258d317-9858-44cd-e4fb-4b8dc5302a28"
      },
      "outputs": [
        {
          "output_type": "stream",
          "name": "stdout",
          "text": [
            "                     price_sek_per_kwh\n",
            "timestamp                             \n",
            "2025-05-01 00:00:00           0.461875\n",
            "2025-05-01 01:00:00           0.417853\n",
            "2025-05-01 02:00:00           0.498081\n",
            "2025-05-01 03:00:00           0.472813\n",
            "2025-05-01 04:00:00           0.472253\n",
            "\n",
            "Description of generated prices:\n",
            "       price_sek_per_kwh\n",
            "count         744.000000\n",
            "mean            0.498551\n",
            "std             0.046902\n",
            "min             0.367202\n",
            "25%             0.462541\n",
            "50%             0.498477\n",
            "75%             0.534514\n",
            "max             0.621167\n"
          ]
        },
        {
          "output_type": "stream",
          "name": "stderr",
          "text": [
            "/tmp/ipython-input-1-884783847.py:11: FutureWarning: 'H' is deprecated and will be removed in a future version, please use 'h' instead.\n",
            "  dates = pd.date_range(start=start_date, end=end_date, freq='H')\n"
          ]
        }
      ],
      "source": [
        "import pandas as pd\n",
        "import numpy as np\n",
        "\n",
        "# Define the date range for May 2025\n",
        "start_date = '2025-05-01 00:00:00'\n",
        "end_date = '2025-05-31 23:00:00'\n",
        "\n",
        "# Generate hourly timestamps for the given range\n",
        "dates = pd.date_range(start=start_date, end=end_date, freq='H')\n",
        "\n",
        "# Create a base price (e.g., SEK per kWh)\n",
        "base_price = 0.5  # Example base price\n",
        "\n",
        "# Generate some realistic fluctuations\n",
        "# We'll add daily seasonality (higher prices during the day)\n",
        "# Weekly seasonality (lower prices on weekends)\n",
        "# And some random noise\n",
        "\n",
        "num_hours = len(dates)\n",
        "\n",
        "# Daily seasonality (sinusoidal pattern, peaks during the day)\n",
        "hour_of_day = dates.hour\n",
        "daily_seasonality = np.sin(2 * np.pi * (hour_of_day - 8) / 24) * 0.1 # Peak around 8-18\n",
        "\n",
        "# Weekly seasonality (lower on weekends)\n",
        "day_of_week = dates.dayofweek # Monday=0, Sunday=6\n",
        "weekly_seasonality = np.where((day_of_week >= 5), -0.05, 0.02) # Lower on Saturday/Sunday\n",
        "\n",
        "# Random noise\n",
        "noise = np.random.randn(num_hours) * 0.05\n",
        "\n",
        "# Combine components to create mock prices\n",
        "# Ensure prices are non-negative\n",
        "mock_prices = np.maximum(0, base_price + base_price * (daily_seasonality + weekly_seasonality + noise))\n",
        "\n",
        "# Create a pandas DataFrame\n",
        "df = pd.DataFrame({'timestamp': dates, 'price_sek_per_kwh': mock_prices})\n",
        "\n",
        "# Set timestamp as index\n",
        "df.set_index('timestamp', inplace=True)\n",
        "\n",
        "# Print the first few rows and some descriptive statistics\n",
        "print(df.head())\n",
        "print(\"\\nDescription of generated prices:\")\n",
        "print(df.describe())\n",
        "\n",
        "# You can also save this to a file if needed\n",
        "# df.to_csv('stockholm_energy_prices_may_2025_mock.csv')\n"
      ]
    },
    {
      "cell_type": "code",
      "source": [
        "# prompt: write in comments important concepts for analyzing energy data\n",
        "\n",
        "# Important concepts for analyzing energy data:\n",
        "# 1. Time Series Analysis: Energy data is inherently time-dependent. Techniques like decomposition (trend, seasonality, residuals), autocorrelation, and forecasting models (ARIMA, Prophet) are crucial.\n",
        "# 2. Seasonality: Identifying and quantifying daily, weekly, and annual patterns in consumption and pricing is key for prediction and optimization.\n",
        "# 3. Trend Analysis: Understanding the long-term direction of energy prices or consumption.\n",
        "# 4. Volatility: Analyzing the degree of variation and fluctuation in prices or load.\n",
        "# 5. Peak and Off-Peak Analysis: Identifying periods of high and low demand/prices for load shifting and cost optimization.\n",
        "# 6. Anomaly Detection: Identifying unusual patterns or outliers that might indicate equipment failure, data errors, or significant events.\n",
        "# 7. Correlation Analysis: Examining the relationship between energy data and other factors like weather, time of day, day of week, holidays, or economic indicators.\n",
        "# 8. Feature Engineering: Creating relevant features from raw data, such as rolling averages, time-based features (hour, day of week, month), and interaction terms.\n",
        "# 9. Forecasting: Building models to predict future energy consumption or prices, which is vital for grid management, trading, and budgeting.\n",
        "# 10. Data Cleaning and Handling Missing Values: Energy datasets can have gaps or errors, requiring robust methods for imputation or removal.\n",
        "# 11. Visualization: Effective plotting of time series data, seasonal patterns, and distributions helps in understanding the data and communicating findings.\n",
        "# 12. Load Profiling: Analyzing typical energy consumption patterns for different types of users or buildings.\n",
        "# 13. Price Elasticity: Understanding how demand responds to changes in price."
      ],
      "metadata": {
        "id": "Pyj0uoL4op9i"
      },
      "execution_count": null,
      "outputs": []
    }
  ]
}